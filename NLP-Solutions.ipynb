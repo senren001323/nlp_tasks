{
 "cells": [
  {
   "cell_type": "markdown",
   "id": "a0944c29-393b-43db-b9d0-ce876a380d01",
   "metadata": {},
   "source": [
    "# Nlp-transformers Solution"
   ]
  },
  {
   "cell_type": "markdown",
   "id": "23272ec3-bebd-4e1a-b55c-d16882041598",
   "metadata": {},
   "source": [
    "## Memory optimize"
   ]
  },
  {
   "cell_type": "markdown",
   "id": "ddccd04b-8a2e-45a1-8254-8925de342c22",
   "metadata": {},
   "source": [
    "### 1-major memory occupation"
   ]
  },
  {
   "cell_type": "markdown",
   "id": "ca792ab1-219a-4c7c-8adb-7dd99704f7c8",
   "metadata": {},
   "source": [
    "- Model—>\\\n",
    "Model weight * 4Bytes"
   ]
  },
  {
   "cell_type": "markdown",
   "id": "c996b96a-709b-4045-8ce7-784b44d76bcb",
   "metadata": {},
   "source": [
    "- Optimizer—>\\\n",
    "Model weight * 8Bytes"
   ]
  },
  {
   "cell_type": "markdown",
   "id": "7876e493-6249-4ce7-b8c9-589e281448c6",
   "metadata": {},
   "source": [
    "- Gradiants—>\\\n",
    "Model wight * 4Bytes"
   ]
  },
  {
   "cell_type": "markdown",
   "id": "13d7e017-231a-43dd-abbc-5f93f9921afc",
   "metadata": {},
   "source": [
    "- Foward alpha\\\n",
    "depends on hidden size/Batch/sequence and et."
   ]
  },
  {
   "cell_type": "markdown",
   "id": "d406dd35-825f-439b-b45b-b1cb59b8cc66",
   "metadata": {},
   "source": [
    "### 2-Optimize stratey"
   ]
  },
  {
   "cell_type": "markdown",
   "id": "b5d4453b-dcf6-4878-bbe8-06a7c1c993bc",
   "metadata": {},
   "source": [
    "base model : hfl/chinese-macbert-large"
   ]
  },
  {
   "cell_type": "markdown",
   "id": "bd0e51f7-3056-4026-862b-deb61059791e",
   "metadata": {},
   "source": [
    "- base model (BS=32, MaxLength=128) ----memory:15GB\n"
   ]
  },
  {
   "cell_type": "markdown",
   "id": "2277ac3b-6764-406f-a1ab-fda9c3ee183c",
   "metadata": {},
   "source": [
    " - +gradient accumulation ----memory:7.4GB"
   ]
  },
  {
   "cell_type": "code",
   "execution_count": 1,
   "id": "ddde02ef-0b18-4b5e-b7b9-70a0764f31d1",
   "metadata": {
    "collapsed": true,
    "jupyter": {
     "outputs_hidden": true
    },
    "scrolled": true
   },
   "outputs": [
    {
     "data": {
      "text/plain": [
       "'train_arg = TrainArgument(          per_device_train_batch_size=1,          gradient_accumulation_steps=1,)'"
      ]
     },
     "execution_count": 1,
     "metadata": {},
     "output_type": "execute_result"
    }
   ],
   "source": [
    "  \"\"\"\n",
    "train_arg = TrainArgument(\n",
    "            per_device_train_batch_size=1,\n",
    "            gradient_accumulation_steps=32,)\n",
    "  \"\"\""
   ]
  },
  {
   "cell_type": "markdown",
   "id": "9ede807c-d0b4-42b9-8be9-b8a3785d0259",
   "metadata": {},
   "source": [
    "- +gredient checkpoint (BS=1 GA=32) ----memory:7.2GB"
   ]
  },
  {
   "cell_type": "code",
   "execution_count": 2,
   "id": "74a684d8-aec5-4a22-9a10-63d1cf88d14f",
   "metadata": {
    "collapsed": true,
    "jupyter": {
     "outputs_hidden": true
    },
    "scrolled": true
   },
   "outputs": [
    {
     "data": {
      "text/plain": [
       "'train_arg = TrainArgument(          per_device_train_batch_size=1,          gradient_accumulation_steps=1,          gradient_checkpointing=True,)'"
      ]
     },
     "execution_count": 2,
     "metadata": {},
     "output_type": "execute_result"
    }
   ],
   "source": [
    "  \"\"\"\\\n",
    "train_arg = TrainArgument(\n",
    "            per_device_train_batch_size=1,\n",
    "            gradient_accumulation_steps=32,\n",
    "            gradient_checkpointing=True,)\n",
    "  \"\"\""
   ]
  },
  {
   "cell_type": "markdown",
   "id": "4e75c6d9-0228-44e0-a7be-d5ac8d074545",
   "metadata": {},
   "source": [
    "- +adafactor optimizer ----memory:5.0GB "
   ]
  },
  {
   "cell_type": "code",
   "execution_count": 3,
   "id": "04b1a7a5-72b5-4ccf-a3e1-f6a5063aa014",
   "metadata": {},
   "outputs": [
    {
     "data": {
      "text/plain": [
       "\"\\ntrain_arg = TrainArgument(\\n          per_device_train_batch_size=1,\\n          gradient_accumulation_steps=1,\\n          gradient_checkpointing=True,\\n          optim='adafactor',)\\n\""
      ]
     },
     "execution_count": 3,
     "metadata": {},
     "output_type": "execute_result"
    }
   ],
   "source": [
    "  \"\"\"\n",
    "train_arg = TrainArgument(\n",
    "            per_device_train_batch_size=1,\n",
    "            gradient_accumulation_steps=1,\n",
    "            gradient_checkpointing=True,\n",
    "            optim='adafactor',)\n",
    "  \"\"\""
   ]
  },
  {
   "cell_type": "markdown",
   "id": "21626094-b065-43fe-8adb-934ac5e69e83",
   "metadata": {},
   "source": [
    "- +freeze model weights ----memory:3.4GB"
   ]
  },
  {
   "cell_type": "code",
   "execution_count": 4,
   "id": "667953fa-9484-4f46-91b5-7c5a57c8713c",
   "metadata": {},
   "outputs": [
    {
     "data": {
      "text/plain": [
       "'\\nfor name, param in model.bert.named_parameters:\\n    param.requires_grad = False\\n\\ntrain = Trainer()\\n'"
      ]
     },
     "execution_count": 4,
     "metadata": {},
     "output_type": "execute_result"
    }
   ],
   "source": [
    "\"\"\"\n",
    "for name, param in model.bert.named_parameters:\n",
    "    param.requires_grad = False\n",
    "\n",
    "train = Trainer()\n",
    "\"\"\""
   ]
  },
  {
   "cell_type": "code",
   "execution_count": null,
   "id": "3616c0f8-0b2e-400d-a7f5-c22775591e71",
   "metadata": {},
   "outputs": [],
   "source": []
  }
 ],
 "metadata": {
  "kernelspec": {
   "display_name": "Python 3 (ipykernel)",
   "language": "python",
   "name": "python3"
  },
  "language_info": {
   "codemirror_mode": {
    "name": "ipython",
    "version": 3
   },
   "file_extension": ".py",
   "mimetype": "text/x-python",
   "name": "python",
   "nbconvert_exporter": "python",
   "pygments_lexer": "ipython3",
   "version": "3.9.13"
  }
 },
 "nbformat": 4,
 "nbformat_minor": 5
}
